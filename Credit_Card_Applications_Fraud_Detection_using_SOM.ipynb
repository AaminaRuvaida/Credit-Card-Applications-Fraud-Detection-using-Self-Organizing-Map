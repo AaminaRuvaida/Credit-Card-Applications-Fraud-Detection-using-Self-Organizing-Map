{
  "nbformat": 4,
  "nbformat_minor": 0,
  "metadata": {
    "colab": {
      "provenance": []
    },
    "kernelspec": {
      "name": "python3",
      "display_name": "Python 3"
    },
    "language_info": {
      "name": "python"
    }
  },
  "cells": [
    {
      "cell_type": "markdown",
      "source": [
        "## Credit Card Applications Fraud Detection using the Self Organizing Map"
      ],
      "metadata": {
        "id": "lvIrFTnlNJeF"
      }
    },
    {
      "cell_type": "markdown",
      "source": [
        "### Importing the Libraries"
      ],
      "metadata": {
        "id": "ejqdv8uUNW18"
      }
    },
    {
      "cell_type": "code",
      "source": [
        "import numpy as np\n",
        "import pandas as pd\n",
        "import matplotlib.pyplot as plt"
      ],
      "metadata": {
        "id": "S1-nPoI6NOA5"
      },
      "execution_count": 1,
      "outputs": []
    },
    {
      "cell_type": "markdown",
      "source": [
        "### Importing the dataset"
      ],
      "metadata": {
        "id": "ZQAXcwYQNw8F"
      }
    },
    {
      "cell_type": "code",
      "source": [
        "dataset = pd.read_csv('Credit_Card_Applications.csv')\n",
        "dataset"
      ],
      "metadata": {
        "colab": {
          "base_uri": "https://localhost:8080/",
          "height": 424
        },
        "id": "Wx1iF6V4Ny5f",
        "outputId": "97e8563b-87c0-4b73-ae27-05c3b69171af"
      },
      "execution_count": 2,
      "outputs": [
        {
          "output_type": "execute_result",
          "data": {
            "text/plain": [
              "     CustomerID  A1     A2      A3  A4  A5  A6     A7  A8  A9  A10  A11  A12  \\\n",
              "0      15776156   1  22.08  11.460   2   4   4  1.585   0   0    0    1    2   \n",
              "1      15739548   0  22.67   7.000   2   8   4  0.165   0   0    0    0    2   \n",
              "2      15662854   0  29.58   1.750   1   4   4  1.250   0   0    0    1    2   \n",
              "3      15687688   0  21.67  11.500   1   5   3  0.000   1   1   11    1    2   \n",
              "4      15715750   1  20.17   8.170   2   6   4  1.960   1   1   14    0    2   \n",
              "..          ...  ..    ...     ...  ..  ..  ..    ...  ..  ..  ...  ...  ...   \n",
              "685    15808223   1  31.57  10.500   2  14   4  6.500   1   0    0    0    2   \n",
              "686    15769980   1  20.67   0.415   2   8   4  0.125   0   0    0    0    2   \n",
              "687    15675450   0  18.83   9.540   2   6   4  0.085   1   0    0    0    2   \n",
              "688    15776494   0  27.42  14.500   2  14   8  3.085   1   1    1    0    2   \n",
              "689    15592412   1  41.00   0.040   2  10   4  0.040   0   1    1    0    1   \n",
              "\n",
              "     A13   A14  Class  \n",
              "0    100  1213      0  \n",
              "1    160     1      0  \n",
              "2    280     1      0  \n",
              "3      0     1      1  \n",
              "4     60   159      1  \n",
              "..   ...   ...    ...  \n",
              "685    0     1      1  \n",
              "686    0    45      0  \n",
              "687  100     1      1  \n",
              "688  120    12      1  \n",
              "689  560     1      1  \n",
              "\n",
              "[690 rows x 16 columns]"
            ],
            "text/html": [
              "\n",
              "  <div id=\"df-736914d2-1dd7-4604-b418-36686b0d66f3\">\n",
              "    <div class=\"colab-df-container\">\n",
              "      <div>\n",
              "<style scoped>\n",
              "    .dataframe tbody tr th:only-of-type {\n",
              "        vertical-align: middle;\n",
              "    }\n",
              "\n",
              "    .dataframe tbody tr th {\n",
              "        vertical-align: top;\n",
              "    }\n",
              "\n",
              "    .dataframe thead th {\n",
              "        text-align: right;\n",
              "    }\n",
              "</style>\n",
              "<table border=\"1\" class=\"dataframe\">\n",
              "  <thead>\n",
              "    <tr style=\"text-align: right;\">\n",
              "      <th></th>\n",
              "      <th>CustomerID</th>\n",
              "      <th>A1</th>\n",
              "      <th>A2</th>\n",
              "      <th>A3</th>\n",
              "      <th>A4</th>\n",
              "      <th>A5</th>\n",
              "      <th>A6</th>\n",
              "      <th>A7</th>\n",
              "      <th>A8</th>\n",
              "      <th>A9</th>\n",
              "      <th>A10</th>\n",
              "      <th>A11</th>\n",
              "      <th>A12</th>\n",
              "      <th>A13</th>\n",
              "      <th>A14</th>\n",
              "      <th>Class</th>\n",
              "    </tr>\n",
              "  </thead>\n",
              "  <tbody>\n",
              "    <tr>\n",
              "      <th>0</th>\n",
              "      <td>15776156</td>\n",
              "      <td>1</td>\n",
              "      <td>22.08</td>\n",
              "      <td>11.460</td>\n",
              "      <td>2</td>\n",
              "      <td>4</td>\n",
              "      <td>4</td>\n",
              "      <td>1.585</td>\n",
              "      <td>0</td>\n",
              "      <td>0</td>\n",
              "      <td>0</td>\n",
              "      <td>1</td>\n",
              "      <td>2</td>\n",
              "      <td>100</td>\n",
              "      <td>1213</td>\n",
              "      <td>0</td>\n",
              "    </tr>\n",
              "    <tr>\n",
              "      <th>1</th>\n",
              "      <td>15739548</td>\n",
              "      <td>0</td>\n",
              "      <td>22.67</td>\n",
              "      <td>7.000</td>\n",
              "      <td>2</td>\n",
              "      <td>8</td>\n",
              "      <td>4</td>\n",
              "      <td>0.165</td>\n",
              "      <td>0</td>\n",
              "      <td>0</td>\n",
              "      <td>0</td>\n",
              "      <td>0</td>\n",
              "      <td>2</td>\n",
              "      <td>160</td>\n",
              "      <td>1</td>\n",
              "      <td>0</td>\n",
              "    </tr>\n",
              "    <tr>\n",
              "      <th>2</th>\n",
              "      <td>15662854</td>\n",
              "      <td>0</td>\n",
              "      <td>29.58</td>\n",
              "      <td>1.750</td>\n",
              "      <td>1</td>\n",
              "      <td>4</td>\n",
              "      <td>4</td>\n",
              "      <td>1.250</td>\n",
              "      <td>0</td>\n",
              "      <td>0</td>\n",
              "      <td>0</td>\n",
              "      <td>1</td>\n",
              "      <td>2</td>\n",
              "      <td>280</td>\n",
              "      <td>1</td>\n",
              "      <td>0</td>\n",
              "    </tr>\n",
              "    <tr>\n",
              "      <th>3</th>\n",
              "      <td>15687688</td>\n",
              "      <td>0</td>\n",
              "      <td>21.67</td>\n",
              "      <td>11.500</td>\n",
              "      <td>1</td>\n",
              "      <td>5</td>\n",
              "      <td>3</td>\n",
              "      <td>0.000</td>\n",
              "      <td>1</td>\n",
              "      <td>1</td>\n",
              "      <td>11</td>\n",
              "      <td>1</td>\n",
              "      <td>2</td>\n",
              "      <td>0</td>\n",
              "      <td>1</td>\n",
              "      <td>1</td>\n",
              "    </tr>\n",
              "    <tr>\n",
              "      <th>4</th>\n",
              "      <td>15715750</td>\n",
              "      <td>1</td>\n",
              "      <td>20.17</td>\n",
              "      <td>8.170</td>\n",
              "      <td>2</td>\n",
              "      <td>6</td>\n",
              "      <td>4</td>\n",
              "      <td>1.960</td>\n",
              "      <td>1</td>\n",
              "      <td>1</td>\n",
              "      <td>14</td>\n",
              "      <td>0</td>\n",
              "      <td>2</td>\n",
              "      <td>60</td>\n",
              "      <td>159</td>\n",
              "      <td>1</td>\n",
              "    </tr>\n",
              "    <tr>\n",
              "      <th>...</th>\n",
              "      <td>...</td>\n",
              "      <td>...</td>\n",
              "      <td>...</td>\n",
              "      <td>...</td>\n",
              "      <td>...</td>\n",
              "      <td>...</td>\n",
              "      <td>...</td>\n",
              "      <td>...</td>\n",
              "      <td>...</td>\n",
              "      <td>...</td>\n",
              "      <td>...</td>\n",
              "      <td>...</td>\n",
              "      <td>...</td>\n",
              "      <td>...</td>\n",
              "      <td>...</td>\n",
              "      <td>...</td>\n",
              "    </tr>\n",
              "    <tr>\n",
              "      <th>685</th>\n",
              "      <td>15808223</td>\n",
              "      <td>1</td>\n",
              "      <td>31.57</td>\n",
              "      <td>10.500</td>\n",
              "      <td>2</td>\n",
              "      <td>14</td>\n",
              "      <td>4</td>\n",
              "      <td>6.500</td>\n",
              "      <td>1</td>\n",
              "      <td>0</td>\n",
              "      <td>0</td>\n",
              "      <td>0</td>\n",
              "      <td>2</td>\n",
              "      <td>0</td>\n",
              "      <td>1</td>\n",
              "      <td>1</td>\n",
              "    </tr>\n",
              "    <tr>\n",
              "      <th>686</th>\n",
              "      <td>15769980</td>\n",
              "      <td>1</td>\n",
              "      <td>20.67</td>\n",
              "      <td>0.415</td>\n",
              "      <td>2</td>\n",
              "      <td>8</td>\n",
              "      <td>4</td>\n",
              "      <td>0.125</td>\n",
              "      <td>0</td>\n",
              "      <td>0</td>\n",
              "      <td>0</td>\n",
              "      <td>0</td>\n",
              "      <td>2</td>\n",
              "      <td>0</td>\n",
              "      <td>45</td>\n",
              "      <td>0</td>\n",
              "    </tr>\n",
              "    <tr>\n",
              "      <th>687</th>\n",
              "      <td>15675450</td>\n",
              "      <td>0</td>\n",
              "      <td>18.83</td>\n",
              "      <td>9.540</td>\n",
              "      <td>2</td>\n",
              "      <td>6</td>\n",
              "      <td>4</td>\n",
              "      <td>0.085</td>\n",
              "      <td>1</td>\n",
              "      <td>0</td>\n",
              "      <td>0</td>\n",
              "      <td>0</td>\n",
              "      <td>2</td>\n",
              "      <td>100</td>\n",
              "      <td>1</td>\n",
              "      <td>1</td>\n",
              "    </tr>\n",
              "    <tr>\n",
              "      <th>688</th>\n",
              "      <td>15776494</td>\n",
              "      <td>0</td>\n",
              "      <td>27.42</td>\n",
              "      <td>14.500</td>\n",
              "      <td>2</td>\n",
              "      <td>14</td>\n",
              "      <td>8</td>\n",
              "      <td>3.085</td>\n",
              "      <td>1</td>\n",
              "      <td>1</td>\n",
              "      <td>1</td>\n",
              "      <td>0</td>\n",
              "      <td>2</td>\n",
              "      <td>120</td>\n",
              "      <td>12</td>\n",
              "      <td>1</td>\n",
              "    </tr>\n",
              "    <tr>\n",
              "      <th>689</th>\n",
              "      <td>15592412</td>\n",
              "      <td>1</td>\n",
              "      <td>41.00</td>\n",
              "      <td>0.040</td>\n",
              "      <td>2</td>\n",
              "      <td>10</td>\n",
              "      <td>4</td>\n",
              "      <td>0.040</td>\n",
              "      <td>0</td>\n",
              "      <td>1</td>\n",
              "      <td>1</td>\n",
              "      <td>0</td>\n",
              "      <td>1</td>\n",
              "      <td>560</td>\n",
              "      <td>1</td>\n",
              "      <td>1</td>\n",
              "    </tr>\n",
              "  </tbody>\n",
              "</table>\n",
              "<p>690 rows × 16 columns</p>\n",
              "</div>\n",
              "      <button class=\"colab-df-convert\" onclick=\"convertToInteractive('df-736914d2-1dd7-4604-b418-36686b0d66f3')\"\n",
              "              title=\"Convert this dataframe to an interactive table.\"\n",
              "              style=\"display:none;\">\n",
              "        \n",
              "  <svg xmlns=\"http://www.w3.org/2000/svg\" height=\"24px\"viewBox=\"0 0 24 24\"\n",
              "       width=\"24px\">\n",
              "    <path d=\"M0 0h24v24H0V0z\" fill=\"none\"/>\n",
              "    <path d=\"M18.56 5.44l.94 2.06.94-2.06 2.06-.94-2.06-.94-.94-2.06-.94 2.06-2.06.94zm-11 1L8.5 8.5l.94-2.06 2.06-.94-2.06-.94L8.5 2.5l-.94 2.06-2.06.94zm10 10l.94 2.06.94-2.06 2.06-.94-2.06-.94-.94-2.06-.94 2.06-2.06.94z\"/><path d=\"M17.41 7.96l-1.37-1.37c-.4-.4-.92-.59-1.43-.59-.52 0-1.04.2-1.43.59L10.3 9.45l-7.72 7.72c-.78.78-.78 2.05 0 2.83L4 21.41c.39.39.9.59 1.41.59.51 0 1.02-.2 1.41-.59l7.78-7.78 2.81-2.81c.8-.78.8-2.07 0-2.86zM5.41 20L4 18.59l7.72-7.72 1.47 1.35L5.41 20z\"/>\n",
              "  </svg>\n",
              "      </button>\n",
              "      \n",
              "  <style>\n",
              "    .colab-df-container {\n",
              "      display:flex;\n",
              "      flex-wrap:wrap;\n",
              "      gap: 12px;\n",
              "    }\n",
              "\n",
              "    .colab-df-convert {\n",
              "      background-color: #E8F0FE;\n",
              "      border: none;\n",
              "      border-radius: 50%;\n",
              "      cursor: pointer;\n",
              "      display: none;\n",
              "      fill: #1967D2;\n",
              "      height: 32px;\n",
              "      padding: 0 0 0 0;\n",
              "      width: 32px;\n",
              "    }\n",
              "\n",
              "    .colab-df-convert:hover {\n",
              "      background-color: #E2EBFA;\n",
              "      box-shadow: 0px 1px 2px rgba(60, 64, 67, 0.3), 0px 1px 3px 1px rgba(60, 64, 67, 0.15);\n",
              "      fill: #174EA6;\n",
              "    }\n",
              "\n",
              "    [theme=dark] .colab-df-convert {\n",
              "      background-color: #3B4455;\n",
              "      fill: #D2E3FC;\n",
              "    }\n",
              "\n",
              "    [theme=dark] .colab-df-convert:hover {\n",
              "      background-color: #434B5C;\n",
              "      box-shadow: 0px 1px 3px 1px rgba(0, 0, 0, 0.15);\n",
              "      filter: drop-shadow(0px 1px 2px rgba(0, 0, 0, 0.3));\n",
              "      fill: #FFFFFF;\n",
              "    }\n",
              "  </style>\n",
              "\n",
              "      <script>\n",
              "        const buttonEl =\n",
              "          document.querySelector('#df-736914d2-1dd7-4604-b418-36686b0d66f3 button.colab-df-convert');\n",
              "        buttonEl.style.display =\n",
              "          google.colab.kernel.accessAllowed ? 'block' : 'none';\n",
              "\n",
              "        async function convertToInteractive(key) {\n",
              "          const element = document.querySelector('#df-736914d2-1dd7-4604-b418-36686b0d66f3');\n",
              "          const dataTable =\n",
              "            await google.colab.kernel.invokeFunction('convertToInteractive',\n",
              "                                                     [key], {});\n",
              "          if (!dataTable) return;\n",
              "\n",
              "          const docLinkHtml = 'Like what you see? Visit the ' +\n",
              "            '<a target=\"_blank\" href=https://colab.research.google.com/notebooks/data_table.ipynb>data table notebook</a>'\n",
              "            + ' to learn more about interactive tables.';\n",
              "          element.innerHTML = '';\n",
              "          dataTable['output_type'] = 'display_data';\n",
              "          await google.colab.output.renderOutput(dataTable, element);\n",
              "          const docLink = document.createElement('div');\n",
              "          docLink.innerHTML = docLinkHtml;\n",
              "          element.appendChild(docLink);\n",
              "        }\n",
              "      </script>\n",
              "    </div>\n",
              "  </div>\n",
              "  "
            ]
          },
          "metadata": {},
          "execution_count": 2
        }
      ]
    },
    {
      "cell_type": "code",
      "source": [
        "# Splitted the features into x variables\n",
        "x = dataset.iloc[:, :-1].values\n",
        "x"
      ],
      "metadata": {
        "colab": {
          "base_uri": "https://localhost:8080/"
        },
        "id": "fQ8vd2FFOAaQ",
        "outputId": "d491afc2-52db-4911-ffc9-21b2b53e05ac"
      },
      "execution_count": 3,
      "outputs": [
        {
          "output_type": "execute_result",
          "data": {
            "text/plain": [
              "array([[1.5776156e+07, 1.0000000e+00, 2.2080000e+01, ..., 2.0000000e+00,\n",
              "        1.0000000e+02, 1.2130000e+03],\n",
              "       [1.5739548e+07, 0.0000000e+00, 2.2670000e+01, ..., 2.0000000e+00,\n",
              "        1.6000000e+02, 1.0000000e+00],\n",
              "       [1.5662854e+07, 0.0000000e+00, 2.9580000e+01, ..., 2.0000000e+00,\n",
              "        2.8000000e+02, 1.0000000e+00],\n",
              "       ...,\n",
              "       [1.5675450e+07, 0.0000000e+00, 1.8830000e+01, ..., 2.0000000e+00,\n",
              "        1.0000000e+02, 1.0000000e+00],\n",
              "       [1.5776494e+07, 0.0000000e+00, 2.7420000e+01, ..., 2.0000000e+00,\n",
              "        1.2000000e+02, 1.2000000e+01],\n",
              "       [1.5592412e+07, 1.0000000e+00, 4.1000000e+01, ..., 1.0000000e+00,\n",
              "        5.6000000e+02, 1.0000000e+00]])"
            ]
          },
          "metadata": {},
          "execution_count": 3
        }
      ]
    },
    {
      "cell_type": "code",
      "source": [
        "y = dataset.iloc[:, -1].values\n",
        "y"
      ],
      "metadata": {
        "colab": {
          "base_uri": "https://localhost:8080/"
        },
        "id": "8WM2-yydOGvE",
        "outputId": "72d593f7-8545-422a-c4d9-c1f50d4e256f"
      },
      "execution_count": 4,
      "outputs": [
        {
          "output_type": "execute_result",
          "data": {
            "text/plain": [
              "array([0, 0, 0, 1, 1, 1, 0, 1, 0, 0, 1, 1, 0, 1, 0, 1, 1, 1, 0, 1, 0, 0,\n",
              "       0, 0, 0, 1, 0, 1, 1, 1, 1, 0, 0, 1, 0, 0, 1, 1, 1, 1, 1, 0, 1, 0,\n",
              "       0, 1, 0, 1, 0, 1, 0, 0, 0, 0, 0, 1, 1, 0, 1, 1, 0, 0, 1, 0, 1, 1,\n",
              "       0, 0, 0, 1, 0, 0, 0, 1, 1, 0, 0, 0, 0, 1, 1, 0, 0, 0, 0, 1, 0, 1,\n",
              "       1, 0, 0, 0, 0, 1, 0, 1, 0, 0, 0, 1, 0, 1, 1, 1, 0, 1, 1, 0, 1, 0,\n",
              "       0, 0, 0, 1, 0, 1, 1, 1, 1, 1, 1, 0, 0, 1, 1, 0, 1, 0, 1, 1, 1, 0,\n",
              "       0, 0, 0, 0, 0, 1, 1, 1, 0, 0, 0, 1, 0, 1, 1, 0, 0, 1, 1, 0, 0, 0,\n",
              "       1, 1, 1, 0, 1, 0, 0, 0, 1, 1, 0, 0, 0, 1, 0, 0, 0, 1, 0, 0, 1, 0,\n",
              "       0, 0, 1, 1, 0, 0, 1, 1, 1, 0, 0, 0, 0, 0, 0, 1, 0, 0, 0, 1, 1, 0,\n",
              "       0, 0, 1, 0, 1, 0, 1, 1, 0, 0, 0, 0, 1, 1, 0, 0, 0, 1, 0, 0, 0, 1,\n",
              "       1, 0, 1, 0, 0, 0, 0, 1, 1, 1, 1, 0, 0, 1, 1, 1, 0, 0, 0, 1, 1, 1,\n",
              "       1, 0, 0, 0, 0, 1, 1, 1, 0, 0, 1, 0, 1, 1, 1, 1, 0, 0, 0, 1, 0, 1,\n",
              "       1, 0, 0, 1, 0, 0, 0, 1, 0, 1, 1, 0, 0, 0, 1, 1, 0, 0, 0, 0, 0, 1,\n",
              "       1, 1, 0, 0, 0, 0, 1, 1, 1, 0, 0, 0, 1, 0, 1, 0, 0, 0, 0, 1, 0, 1,\n",
              "       0, 0, 0, 0, 0, 1, 1, 0, 0, 1, 0, 1, 1, 1, 1, 1, 1, 1, 0, 0, 0, 0,\n",
              "       1, 1, 1, 0, 0, 0, 1, 0, 1, 0, 0, 0, 1, 1, 1, 1, 1, 1, 1, 0, 1, 0,\n",
              "       1, 0, 0, 0, 0, 0, 1, 0, 1, 1, 0, 0, 0, 0, 0, 1, 0, 1, 1, 0, 0, 0,\n",
              "       1, 1, 1, 0, 0, 1, 1, 0, 0, 0, 1, 1, 0, 1, 1, 1, 1, 0, 0, 1, 1, 0,\n",
              "       0, 0, 0, 0, 0, 1, 0, 0, 0, 1, 1, 0, 1, 0, 0, 0, 1, 1, 1, 0, 0, 1,\n",
              "       0, 1, 1, 1, 0, 1, 0, 0, 1, 0, 0, 0, 1, 0, 0, 1, 0, 1, 0, 1, 1, 0,\n",
              "       1, 0, 0, 1, 0, 1, 1, 0, 0, 0, 0, 0, 1, 1, 0, 0, 1, 1, 0, 1, 0, 1,\n",
              "       0, 1, 0, 1, 1, 0, 1, 0, 1, 1, 1, 0, 0, 0, 0, 0, 1, 0, 1, 0, 0, 0,\n",
              "       1, 1, 1, 1, 1, 0, 1, 1, 0, 0, 0, 1, 1, 1, 1, 1, 1, 0, 1, 1, 1, 1,\n",
              "       0, 0, 0, 0, 0, 0, 0, 1, 0, 0, 1, 1, 1, 0, 1, 0, 0, 1, 1, 0, 1, 0,\n",
              "       0, 0, 0, 0, 0, 1, 0, 1, 0, 1, 1, 1, 0, 0, 1, 0, 0, 0, 0, 0, 0, 0,\n",
              "       1, 1, 0, 0, 0, 0, 0, 1, 0, 1, 0, 1, 0, 0, 1, 1, 1, 0, 0, 0, 0, 0,\n",
              "       1, 0, 1, 1, 0, 0, 0, 0, 0, 1, 1, 1, 0, 1, 0, 1, 1, 0, 0, 1, 0, 1,\n",
              "       0, 0, 1, 1, 0, 1, 0, 1, 1, 1, 1, 0, 0, 1, 0, 1, 1, 0, 1, 0, 1, 1,\n",
              "       0, 0, 0, 1, 0, 1, 1, 0, 1, 0, 0, 0, 0, 0, 1, 0, 1, 0, 0, 0, 0, 0,\n",
              "       0, 1, 0, 1, 1, 0, 0, 0, 0, 0, 0, 1, 1, 0, 0, 1, 0, 0, 1, 0, 0, 1,\n",
              "       1, 0, 1, 1, 0, 0, 0, 0, 0, 0, 1, 1, 0, 1, 1, 0, 0, 0, 0, 1, 0, 0,\n",
              "       1, 0, 1, 1, 0, 1, 1, 1])"
            ]
          },
          "metadata": {},
          "execution_count": 4
        }
      ]
    },
    {
      "cell_type": "markdown",
      "source": [
        "### Feature Scaling"
      ],
      "metadata": {
        "id": "pN-HREJ4OW_k"
      }
    },
    {
      "cell_type": "code",
      "source": [
        "from sklearn.preprocessing import MinMaxScaler\n",
        "sc = MinMaxScaler(feature_range = (0, 1))\n",
        "x = sc.fit_transform(x)\n",
        "print(x)"
      ],
      "metadata": {
        "colab": {
          "base_uri": "https://localhost:8080/"
        },
        "id": "JWIrV7EDOZEQ",
        "outputId": "9495b5a1-9c63-407c-eeb2-e732722f9a74"
      },
      "execution_count": 5,
      "outputs": [
        {
          "output_type": "stream",
          "name": "stdout",
          "text": [
            "[[8.42681467e-01 1.00000000e+00 1.25263158e-01 ... 5.00000000e-01\n",
            "  5.00000000e-02 1.21200000e-02]\n",
            " [6.96090562e-01 0.00000000e+00 1.34135338e-01 ... 5.00000000e-01\n",
            "  8.00000000e-02 0.00000000e+00]\n",
            " [3.88981656e-01 0.00000000e+00 2.38045113e-01 ... 5.00000000e-01\n",
            "  1.40000000e-01 0.00000000e+00]\n",
            " ...\n",
            " [4.39420332e-01 0.00000000e+00 7.63909774e-02 ... 5.00000000e-01\n",
            "  5.00000000e-02 0.00000000e+00]\n",
            " [8.44034934e-01 0.00000000e+00 2.05563910e-01 ... 5.00000000e-01\n",
            "  6.00000000e-02 1.10000000e-04]\n",
            " [1.06907888e-01 1.00000000e+00 4.09774436e-01 ... 0.00000000e+00\n",
            "  2.80000000e-01 0.00000000e+00]]\n"
          ]
        }
      ]
    },
    {
      "cell_type": "markdown",
      "source": [
        "### Training the SOM"
      ],
      "metadata": {
        "id": "y6E7hOzoOqk3"
      }
    },
    {
      "cell_type": "code",
      "source": [
        "!pip install MiniSom"
      ],
      "metadata": {
        "colab": {
          "base_uri": "https://localhost:8080/"
        },
        "id": "SHreVDc4OztY",
        "outputId": "74298a20-0f16-42bb-f9c8-f444d08adc7e"
      },
      "execution_count": 7,
      "outputs": [
        {
          "output_type": "stream",
          "name": "stdout",
          "text": [
            "Looking in indexes: https://pypi.org/simple, https://us-python.pkg.dev/colab-wheels/public/simple/\n",
            "Collecting MiniSom\n",
            "  Downloading MiniSom-2.3.0.tar.gz (8.8 kB)\n",
            "Building wheels for collected packages: MiniSom\n",
            "  Building wheel for MiniSom (setup.py) ... \u001b[?25l\u001b[?25hdone\n",
            "  Created wheel for MiniSom: filename=MiniSom-2.3.0-py3-none-any.whl size=9018 sha256=d1732da56eb9b8d069dcd6c8094746518ca036ad2636e8b895e3c92d67586870\n",
            "  Stored in directory: /root/.cache/pip/wheels/d4/ca/4a/488772b0399fec45ff53132ed14c948dec4b30deee3a532f80\n",
            "Successfully built MiniSom\n",
            "Installing collected packages: MiniSom\n",
            "Successfully installed MiniSom-2.3.0\n"
          ]
        }
      ]
    },
    {
      "cell_type": "code",
      "source": [
        "from minisom import MiniSom"
      ],
      "metadata": {
        "id": "jZi22MuUOmM2"
      },
      "execution_count": 8,
      "outputs": []
    },
    {
      "cell_type": "code",
      "source": [
        "som = MiniSom(x = 10, y = 10, input_len = 15, sigma = 1, learning_rate = 0.5)\n",
        "som.random_weights_init(x)\n",
        "som.train_random(data = x, num_iteration = 100)"
      ],
      "metadata": {
        "id": "qu9vbX1gOxK5"
      },
      "execution_count": 9,
      "outputs": []
    },
    {
      "cell_type": "markdown",
      "source": [
        "### Visualizing the Results"
      ],
      "metadata": {
        "id": "d-t4mqMiPULj"
      }
    },
    {
      "cell_type": "code",
      "source": [
        "from pylab import bone, pcolor, colorbar, plot, show"
      ],
      "metadata": {
        "id": "kEJfqBBPPRr4"
      },
      "execution_count": 10,
      "outputs": []
    },
    {
      "cell_type": "code",
      "source": [
        "bone()\n",
        "pcolor(som.distance_map().T)\n",
        "colorbar()\n",
        "markers = ['o', 's']\n",
        "colors = ['r', 'g']\n",
        "for i, X in enumerate(x):\n",
        "  w = som.winner(X)\n",
        "  plot(w[0] + 0.5,\n",
        "       w[1] + 0.5,\n",
        "       markers[y[i]],\n",
        "       markeredgecolor = colors[y[i]],\n",
        "       markerfacecolor = 'None',\n",
        "       markersize = 10,\n",
        "       markeredgewidth = 2)"
      ],
      "metadata": {
        "colab": {
          "base_uri": "https://localhost:8080/",
          "height": 269
        },
        "id": "jiwBgui4PdT-",
        "outputId": "74a9a798-6ad0-476e-bc30-d9abddb8e8ed"
      },
      "execution_count": 15,
      "outputs": [
        {
          "output_type": "display_data",
          "data": {
            "text/plain": [
              "<Figure size 432x288 with 2 Axes>"
            ],
            "image/png": "[encoded data removed]"
          },
          "metadata": {
            "needs_background": "light"
          }
        }
      ]
    },
    {
      "cell_type": "markdown",
      "source": [
        "### Finding the Frauds"
      ],
      "metadata": {
        "id": "v8HZQ7XEQqtf"
      }
    },
    {
      "cell_type": "code",
      "source": [
        "mappings = som.win_map(x)\n",
        "frauds = np.concatenate((mappings[(8,2)], mappings[(5,6)], mappings[(4,8)], mappings[(2,2)], mappings[(3,4)]), axis = 0)\n",
        "frauds = sc.inverse_transform(frauds)"
      ],
      "metadata": {
        "id": "nOc64I1gPfU-"
      },
      "execution_count": 16,
      "outputs": []
    },
    {
      "cell_type": "code",
      "source": [
        "print(frauds)"
      ],
      "metadata": {
        "colab": {
          "base_uri": "https://localhost:8080/"
        },
        "id": "VW11kAkwRZlV",
        "outputId": "558f4705-2971-469f-ff63-ef6fd6c2c903"
      },
      "execution_count": 18,
      "outputs": [
        {
          "output_type": "stream",
          "name": "stdout",
          "text": [
            "[[1.5609356e+07 1.0000000e+00 2.0670000e+01 1.2500000e+00 1.0000000e+00\n",
            "  8.0000000e+00 8.0000000e+00 1.3750000e+00 1.0000000e+00 1.0000000e+00\n",
            "  3.0000000e+00 1.0000000e+00 2.0000000e+00 1.4000000e+02 2.1100000e+02]\n",
            " [1.5588123e+07 1.0000000e+00 3.3170000e+01 3.0400000e+00 1.0000000e+00\n",
            "  8.0000000e+00 8.0000000e+00 2.0400000e+00 1.0000000e+00 1.0000000e+00\n",
            "  1.0000000e+00 1.0000000e+00 2.0000000e+00 1.8000000e+02 1.8028000e+04]\n",
            " [1.5572390e+07 1.0000000e+00 2.7830000e+01 4.0000000e+00 1.0000000e+00\n",
            "  3.0000000e+00 8.0000000e+00 5.7500000e+00 1.0000000e+00 1.0000000e+00\n",
            "  2.0000000e+00 1.0000000e+00 2.0000000e+00 7.5000000e+01 1.0000000e+00]\n",
            " [1.5575243e+07 1.0000000e+00 3.4080000e+01 8.0000000e-02 1.0000000e+00\n",
            "  7.0000000e+00 5.0000000e+00 4.0000000e-02 1.0000000e+00 1.0000000e+00\n",
            "  1.0000000e+00 1.0000000e+00 2.0000000e+00 2.8000000e+02 2.0010000e+03]\n",
            " [1.5631693e+07 1.0000000e+00 3.2250000e+01 1.6500000e-01 1.0000000e+00\n",
            "  8.0000000e+00 8.0000000e+00 3.2500000e+00 1.0000000e+00 1.0000000e+00\n",
            "  1.0000000e+00 1.0000000e+00 2.0000000e+00 4.3200000e+02 8.0010000e+03]\n",
            " [1.5568162e+07 0.0000000e+00 1.9500000e+01 1.6500000e-01 2.0000000e+00\n",
            "  1.1000000e+01 4.0000000e+00 4.0000000e-02 0.0000000e+00 0.0000000e+00\n",
            "  0.0000000e+00 1.0000000e+00 2.0000000e+00 3.8000000e+02 1.0000000e+00]\n",
            " [1.5662152e+07 0.0000000e+00 2.9750000e+01 6.6500000e-01 2.0000000e+00\n",
            "  9.0000000e+00 4.0000000e+00 2.5000000e-01 0.0000000e+00 0.0000000e+00\n",
            "  0.0000000e+00 1.0000000e+00 2.0000000e+00 3.0000000e+02 1.0000000e+00]\n",
            " [1.5734578e+07 0.0000000e+00 2.1750000e+01 1.1750000e+01 2.0000000e+00\n",
            "  8.0000000e+00 4.0000000e+00 2.5000000e-01 0.0000000e+00 0.0000000e+00\n",
            "  0.0000000e+00 1.0000000e+00 2.0000000e+00 1.8000000e+02 1.0000000e+00]\n",
            " [1.5570508e+07 0.0000000e+00 5.1920000e+01 6.5000000e+00 2.0000000e+00\n",
            "  3.0000000e+00 5.0000000e+00 3.0850000e+00 0.0000000e+00 0.0000000e+00\n",
            "  0.0000000e+00 1.0000000e+00 2.0000000e+00 7.3000000e+01 1.0000000e+00]\n",
            " [1.5641733e+07 0.0000000e+00 5.0250000e+01 8.3500000e-01 2.0000000e+00\n",
            "  6.0000000e+00 4.0000000e+00 5.0000000e-01 0.0000000e+00 0.0000000e+00\n",
            "  0.0000000e+00 1.0000000e+00 2.0000000e+00 2.4000000e+02 1.1800000e+02]\n",
            " [1.5660144e+07 0.0000000e+00 2.6170000e+01 2.0000000e+00 2.0000000e+00\n",
            "  5.0000000e+00 3.0000000e+00 0.0000000e+00 0.0000000e+00 0.0000000e+00\n",
            "  0.0000000e+00 1.0000000e+00 2.0000000e+00 2.7600000e+02 2.0000000e+00]\n",
            " [1.5603565e+07 0.0000000e+00 2.2920000e+01 1.2500000e+00 2.0000000e+00\n",
            "  1.1000000e+01 4.0000000e+00 2.5000000e-01 0.0000000e+00 0.0000000e+00\n",
            "  0.0000000e+00 1.0000000e+00 2.0000000e+00 1.2000000e+02 8.1000000e+02]\n",
            " [1.5664720e+07 0.0000000e+00 2.4830000e+01 4.5000000e+00 2.0000000e+00\n",
            "  9.0000000e+00 4.0000000e+00 1.0000000e+00 0.0000000e+00 0.0000000e+00\n",
            "  0.0000000e+00 1.0000000e+00 2.0000000e+00 3.6000000e+02 7.0000000e+00]\n",
            " [1.5645820e+07 0.0000000e+00 1.8080000e+01 3.7500000e-01 3.0000000e+00\n",
            "  1.3000000e+01 1.0000000e+00 1.0000000e+01 0.0000000e+00 0.0000000e+00\n",
            "  0.0000000e+00 1.0000000e+00 1.0000000e+00 3.0000000e+02 1.0000000e+00]\n",
            " [1.5567919e+07 0.0000000e+00 2.3500000e+01 1.5000000e+00 2.0000000e+00\n",
            "  9.0000000e+00 4.0000000e+00 8.7500000e-01 0.0000000e+00 0.0000000e+00\n",
            "  0.0000000e+00 1.0000000e+00 2.0000000e+00 1.6000000e+02 1.0000000e+00]\n",
            " [1.5638751e+07 0.0000000e+00 2.7670000e+01 2.0400000e+00 2.0000000e+00\n",
            "  9.0000000e+00 4.0000000e+00 2.5000000e-01 0.0000000e+00 0.0000000e+00\n",
            "  0.0000000e+00 1.0000000e+00 2.0000000e+00 1.8000000e+02 5.1000000e+01]\n",
            " [1.5641007e+07 0.0000000e+00 2.5250000e+01 1.2500000e+01 2.0000000e+00\n",
            "  2.0000000e+00 4.0000000e+00 1.0000000e+00 0.0000000e+00 0.0000000e+00\n",
            "  0.0000000e+00 1.0000000e+00 2.0000000e+00 1.8000000e+02 1.0630000e+03]\n",
            " [1.5606554e+07 0.0000000e+00 3.2250000e+01 1.5000000e+00 2.0000000e+00\n",
            "  8.0000000e+00 4.0000000e+00 2.5000000e-01 0.0000000e+00 0.0000000e+00\n",
            "  0.0000000e+00 1.0000000e+00 2.0000000e+00 3.7200000e+02 1.2300000e+02]\n",
            " [1.5609823e+07 1.0000000e+00 2.8750000e+01 1.1650000e+00 2.0000000e+00\n",
            "  4.0000000e+00 4.0000000e+00 5.0000000e-01 1.0000000e+00 0.0000000e+00\n",
            "  0.0000000e+00 0.0000000e+00 1.0000000e+00 2.8000000e+02 1.0000000e+00]\n",
            " [1.5594133e+07 1.0000000e+00 4.8330000e+01 1.2000000e+01 2.0000000e+00\n",
            "  7.0000000e+00 4.0000000e+00 1.6000000e+01 1.0000000e+00 0.0000000e+00\n",
            "  0.0000000e+00 0.0000000e+00 1.0000000e+00 1.1000000e+02 1.0000000e+00]\n",
            " [1.5735572e+07 1.0000000e+00 4.4250000e+01 5.0000000e-01 2.0000000e+00\n",
            "  7.0000000e+00 4.0000000e+00 1.0750000e+01 1.0000000e+00 0.0000000e+00\n",
            "  0.0000000e+00 0.0000000e+00 1.0000000e+00 4.0000000e+02 1.0000000e+00]\n",
            " [1.5636562e+07 1.0000000e+00 4.2000000e+01 2.0500000e-01 2.0000000e+00\n",
            "  3.0000000e+00 8.0000000e+00 5.1250000e+00 1.0000000e+00 0.0000000e+00\n",
            "  0.0000000e+00 0.0000000e+00 2.0000000e+00 4.0000000e+02 1.0000000e+00]\n",
            " [1.5687765e+07 1.0000000e+00 3.9830000e+01 5.0000000e-01 2.0000000e+00\n",
            "  7.0000000e+00 4.0000000e+00 2.5000000e-01 1.0000000e+00 0.0000000e+00\n",
            "  0.0000000e+00 0.0000000e+00 1.0000000e+00 2.8800000e+02 1.0000000e+00]\n",
            " [1.5658504e+07 1.0000000e+00 4.4250000e+01 1.1000000e+01 1.0000000e+00\n",
            "  2.0000000e+00 4.0000000e+00 1.5000000e+00 1.0000000e+00 0.0000000e+00\n",
            "  0.0000000e+00 0.0000000e+00 1.0000000e+00 0.0000000e+00 1.0000000e+00]\n",
            " [1.5569595e+07 1.0000000e+00 2.0500000e+01 1.0000000e+01 1.0000000e+00\n",
            "  8.0000000e+00 4.0000000e+00 2.5000000e+00 1.0000000e+00 0.0000000e+00\n",
            "  0.0000000e+00 0.0000000e+00 1.0000000e+00 4.0000000e+01 1.0000000e+00]\n",
            " [1.5637891e+07 1.0000000e+00 3.9170000e+01 1.7100000e+00 2.0000000e+00\n",
            "  1.4000000e+01 4.0000000e+00 1.2500000e-01 1.0000000e+00 1.0000000e+00\n",
            "  5.0000000e+00 1.0000000e+00 2.0000000e+00 4.8000000e+02 1.0000000e+00]\n",
            " [1.5799785e+07 1.0000000e+00 5.6420000e+01 2.8000000e+01 1.0000000e+00\n",
            "  8.0000000e+00 4.0000000e+00 2.8500000e+01 1.0000000e+00 1.0000000e+00\n",
            "  4.0000000e+01 0.0000000e+00 2.0000000e+00 0.0000000e+00 1.6000000e+01]]\n"
          ]
        }
      ]
    },
    {
      "cell_type": "code",
      "source": [
        "# Print Fraud Customer's ID\n",
        "print(\"Fraud Customer's ID\")\n",
        "print(\"====================\")\n",
        "for i in frauds[:, 0]:\n",
        "  print(int(i))"
      ],
      "metadata": {
        "colab": {
          "base_uri": "https://localhost:8080/"
        },
        "id": "KfD3f-b5Rbsf",
        "outputId": "d090c0b7-8668-482f-a033-903bbf29cede"
      },
      "execution_count": 22,
      "outputs": [
        {
          "output_type": "stream",
          "name": "stdout",
          "text": [
            "Fraud Customer's ID\n",
            "====================\n",
            "15609356\n",
            "15588123\n",
            "15572390\n",
            "15575243\n",
            "15631693\n",
            "15568162\n",
            "15662152\n",
            "15734578\n",
            "15570508\n",
            "15641733\n",
            "15660144\n",
            "15603565\n",
            "15664720\n",
            "15645820\n",
            "15567919\n",
            "15638751\n",
            "15641007\n",
            "15606554\n",
            "15609823\n",
            "15594133\n",
            "15735572\n",
            "15636562\n",
            "15687765\n",
            "15658504\n",
            "15569595\n",
            "15637891\n",
            "15799785\n"
          ]
        }
      ]
    }
  ]
}